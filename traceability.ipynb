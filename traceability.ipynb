{
 "cells": [
  {
   "cell_type": "code",
   "execution_count": 4,
   "metadata": {},
   "outputs": [],
   "source": [
    "import uuid\n",
    "from PIL.PngImagePlugin import PngImageFile, PngInfo\n",
    "urls = [\n",
    "    \"https://www.bbc.co.uk/news/business-58830955\",\n",
    "    \"https://www.bbc.co.uk/news\",\n",
    "    \"https://www.bbc.co.uk\"\n",
    "]"
   ]
  },
  {
   "cell_type": "code",
   "execution_count": 5,
   "metadata": {},
   "outputs": [],
   "source": [
    "# store ID in png metadata\n",
    "def addGUID(imagePath,url,savePath):\n",
    "    guid = uuid.uuid3(uuid.NAMESPACE_URL,url)\n",
    "    image = PngImageFile(imagePath)\n",
    "    metadata = PngInfo()\n",
    "    metadata.add_text(\"GUID\",str(guid))\n",
    "    image.save(savePath, pnginfo=metadata)"
   ]
  },
  {
   "cell_type": "code",
   "execution_count": null,
   "metadata": {},
   "outputs": [],
   "source": [
    "# creating new instance of test image with GUID\n",
    "addGUID(\"Test Data/GUID Testing/test image.png\",\"https://www.bbc.co.uk/news/business-58830955\",\"Test Data/GUID Testing/updated image.png\")\n",
    "print(\"test image meta: \"+str(PngImageFile(\"Test Data/GUID Testing/test image.png\").text))\n",
    "print(\"updated image meta: \"+str(PngImageFile(\"Test Data/GUID Testing/updated image.png\").text))"
   ]
  },
  {
   "cell_type": "code",
   "execution_count": null,
   "metadata": {},
   "outputs": [],
   "source": [
    "# adding GUID to test image copy (delete and recopy to remove GUID)\n",
    "print(\"before: \"+str(PngImageFile(\"Test Data/GUID Testing/test image copy.png\").text))\n",
    "addGUID(\"Test Data/GUID Testing/test image copy.png\",\"https://www.bbc.co.uk/news/business-58830955\",\"Test Data/GUID Testing/test image copy.png\")\n",
    "print(\"after: \"+str(PngImageFile(\"Test Data/GUID Testing/test image copy.png\").text))"
   ]
  },
  {
   "cell_type": "code",
   "execution_count": 13,
   "metadata": {},
   "outputs": [],
   "source": [
    "# generate unique ID using uuid library\n",
    "# uuid1 compromises privacy as it incorporates MAC address\n",
    "# uuid4 creates UUID using random or pseudo-random numbers\n",
    "# uuid3 and uuid5 use MD5 and SHA-1 hashing algorithms respectively\n",
    "# uuid3/5 take namespace and name to avoid hash collisions (use NAMESPACE_URL as the namespace identifier when working with urls)\n",
    "\n",
    "# set image name to domain name?\n",
    "# hash collision risk - i beleive this is solved by uuid's NAMESPACE_URL namespace\n",
    "\n",
    "# old code\n",
    "guid = uuid.uuid3(uuid.NAMESPACE_URL,urls[0])\n",
    "def generateGUID(url):\n",
    "    guid = uuid.uuid3(uuid.NAMESPACE_URL,url)\n",
    "    return guid\n",
    "targetImage = PngImageFile(\"Test Data/GUID Testing/test image.png\")\n",
    "metadata = PngInfo()\n",
    "metadata.add_text(\"GUID\", str(uuid))\n",
    "targetImage.save(\"Test Data/GUID Testing/updated image.png\", pnginfo=metadata)\n",
    "updatedImage = PngImageFile(\"Test Data/GUID Testing/updated image.png\")\n",
    "#print(targetImage.text) # empty dictionary\n",
    "#print(updatedImage.text) # dictionary containing metadata"
   ]
  }
 ],
 "metadata": {
  "interpreter": {
   "hash": "1e278ca4e9a2ae999502812da3aa9042213e3ce53c46b5f0452fc22ced78fb5d"
  },
  "kernelspec": {
   "display_name": "Python 3.9.7 64-bit (windows store)",
   "name": "python3"
  },
  "language_info": {
   "codemirror_mode": {
    "name": "ipython",
    "version": 3
   },
   "file_extension": ".py",
   "mimetype": "text/x-python",
   "name": "python",
   "nbconvert_exporter": "python",
   "pygments_lexer": "ipython3",
   "version": "3.9.7"
  },
  "orig_nbformat": 4
 },
 "nbformat": 4,
 "nbformat_minor": 2
}
