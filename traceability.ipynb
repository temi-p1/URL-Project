{
 "cells": [
  {
   "cell_type": "code",
   "execution_count": null,
   "metadata": {},
   "outputs": [],
   "source": [
    "import uuid\n",
    "from PIL.PngImagePlugin import PngImageFile, PngInfo\n",
    "# read url\n",
    "urls = [\n",
    "    \"https://www.bbc.co.uk/news/business-58830955\",\n",
    "    \"https://www.bbc.co.uk/news\",\n",
    "    \"https://www.bbc.co.uk\"\n",
    "]\n",
    "# generate unique ID using uuid library\n",
    "# uuid1 compromises privacy as it incorporates MAC address\n",
    "# uuid4 creates UUID using random or pseudo-random numbers\n",
    "# uuid3 and uuid5 use MD5 and SHA-1 hashing algorithms respectively\n",
    "# uuid3/5 take namespace and name to avoid hash collisions (use NAMESPACE_URL as the namespace identifier when working with urls)\n",
    "uuid = uuid.uuid3(uuid.NAMESPACE_URL,urls[0])\n",
    "print(uuid)"
   ]
  },
  {
   "cell_type": "code",
   "execution_count": 16,
   "metadata": {},
   "outputs": [
    {
     "name": "stdout",
     "output_type": "stream",
     "text": [
      "{}\n",
      "{'GUID': 'e618e325-a62c-3747-8b8f-34503b4ed0a3'}\n"
     ]
    }
   ],
   "source": [
    "# store ID in png metadata\n",
    "targetImage = PngImageFile(\"test image.png\")\n",
    "metadata = PngInfo()\n",
    "metadata.add_text(\"GUID\", str(uuid))\n",
    "targetImage.save(\"updated image.png\", pnginfo=metadata)\n",
    "updatedImage = PngImageFile(\"updated image.png\")\n",
    "print(targetImage.text) # empty dictionary\n",
    "print(updatedImage.text) # dictionary containing metadata"
   ]
  },
  {
   "cell_type": "code",
   "execution_count": null,
   "metadata": {},
   "outputs": [],
   "source": [
    "# set image name to domain name?\n",
    "# hash collision risk - i beleive this is solved by uuid's NAMESPACE_URL namespace"
   ]
  }
 ],
 "metadata": {
  "interpreter": {
   "hash": "1e278ca4e9a2ae999502812da3aa9042213e3ce53c46b5f0452fc22ced78fb5d"
  },
  "kernelspec": {
   "display_name": "Python 3.9.7 64-bit (windows store)",
   "name": "python3"
  },
  "language_info": {
   "codemirror_mode": {
    "name": "ipython",
    "version": 3
   },
   "file_extension": ".py",
   "mimetype": "text/x-python",
   "name": "python",
   "nbconvert_exporter": "python",
   "pygments_lexer": "ipython3",
   "version": "3.9.7"
  },
  "orig_nbformat": 4
 },
 "nbformat": 4,
 "nbformat_minor": 2
}
