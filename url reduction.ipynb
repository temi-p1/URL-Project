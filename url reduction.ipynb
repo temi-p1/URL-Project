{
 "cells": [
  {
   "cell_type": "code",
   "execution_count": 10,
   "metadata": {},
   "outputs": [
    {
     "name": "stdout",
     "output_type": "stream",
     "text": [
      "['https://www.bbc.co.uk', 'https://www.amazon.co.uk', 'https://www.amazon.co.uk']\n"
     ]
    }
   ],
   "source": [
    "# REMOVING URLS WHICH APPEAR IN EXTERNAL LIST (E.G. REDLIST OR WHITELIST)\n",
    "\n",
    "set1 = urls = [\n",
    "    \"https://www.bbc.co.uk/news\",\n",
    "    \"https://www.bbc.co.uk\",\n",
    "    \"https://www.amazon.co.uk\",\n",
    "    \"https://www.amazon.co.uk\"\n",
    "]\n",
    "set2 = [\"https://www.bbc.co.uk/news\"]\n",
    "\n",
    "# takes two arrays of strings as input\n",
    "# removes any elements of urlSet that match any elements of externalSet\n",
    "def urlReduce(urlSet,externalSet):\n",
    "    newSet = []\n",
    "    for url in urlSet:\n",
    "        indicator = 0\n",
    "        for item in externalSet:\n",
    "            if(url == item):\n",
    "                indicator = 1\n",
    "        if(indicator == 0):\n",
    "            newSet.append(url)\n",
    "    return newSet\n",
    "\n",
    "set3 = urlReduce(set1,set2)\n",
    "print(set3)\n"
   ]
  },
  {
   "cell_type": "code",
   "execution_count": 11,
   "metadata": {},
   "outputs": [
    {
     "name": "stdout",
     "output_type": "stream",
     "text": [
      "['https://www.bbc.co.uk/news', 'https://www.bbc.co.uk', 'https://www.amazon.co.uk']\n"
     ]
    }
   ],
   "source": [
    "# DE-DUPLICATION\n",
    "set4 = list(dict.fromkeys(set1))\n",
    "print(set4)"
   ]
  },
  {
   "cell_type": "code",
   "execution_count": 14,
   "metadata": {},
   "outputs": [
    {
     "name": "stdout",
     "output_type": "stream",
     "text": [
      "['bbc.co.uk', 'bbc.co.uk', 'amazon.co.uk', 'amazon.co.uk']\n"
     ]
    }
   ],
   "source": [
    "# GET DOMAIN NAMES (for partial url matching/grouping by domain)\n",
    "from urllib.parse import urlparse\n",
    "\n",
    "def getDomain(urlSet):\n",
    "    newSet = []\n",
    "    for url in urlSet:\n",
    "        site = urlparse(url).netloc\n",
    "        domain = ('.'.join(site.split('.')[1:]))\n",
    "        newSet.append(domain)\n",
    "    return newSet\n",
    "\n",
    "set5 = getDomain(set1)\n",
    "print(set5)"
   ]
  },
  {
   "cell_type": "code",
   "execution_count": 10,
   "metadata": {},
   "outputs": [
    {
     "ename": "ModuleNotFoundError",
     "evalue": "No module named 'bs4'",
     "output_type": "error",
     "traceback": [
      "\u001b[1;31m---------------------------------------------------------------------------\u001b[0m",
      "\u001b[1;31mModuleNotFoundError\u001b[0m                       Traceback (most recent call last)",
      "\u001b[1;32mC:\\Users\\JOSHAL~1\\AppData\\Local\\Temp/ipykernel_18344/4003549609.py\u001b[0m in \u001b[0;36m<module>\u001b[1;34m\u001b[0m\n\u001b[1;32m----> 1\u001b[1;33m \u001b[1;32mimport\u001b[0m \u001b[0mbs4\u001b[0m\u001b[1;33m\u001b[0m\u001b[1;33m\u001b[0m\u001b[0m\n\u001b[0m",
      "\u001b[1;31mModuleNotFoundError\u001b[0m: No module named 'bs4'"
     ]
    }
   ],
   "source": [
    "import bs4"
   ]
  }
 ],
 "metadata": {
  "interpreter": {
   "hash": "8f78987f031df86666a51cf16e20a3b77562b4939c952e41e99e7ff23f94d9d4"
  },
  "kernelspec": {
   "display_name": "Python 3.9.7 64-bit ('venv': venv)",
   "name": "python3"
  },
  "language_info": {
   "codemirror_mode": {
    "name": "ipython",
    "version": 3
   },
   "file_extension": ".py",
   "mimetype": "text/x-python",
   "name": "python",
   "nbconvert_exporter": "python",
   "pygments_lexer": "ipython3",
   "version": "3.9.7"
  },
  "orig_nbformat": 4
 },
 "nbformat": 4,
 "nbformat_minor": 2
}
