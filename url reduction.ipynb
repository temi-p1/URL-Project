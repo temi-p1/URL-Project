{
 "cells": [
  {
   "cell_type": "code",
   "execution_count": 8,
   "metadata": {},
   "outputs": [],
   "source": [
    "urlList = urls = [\n",
    "    \"https://www.bbc.co.uk/news\",\n",
    "    \"https://www.bbc.co.uk\",\n",
    "    \"https://www.amazon.co.uk\",\n",
    "    \"https://www.amazon.co.uk\"\n",
    "]\n",
    "whiteList = [\"https://www.bbc.co.uk/news\"]"
   ]
  },
  {
   "cell_type": "code",
   "execution_count": 9,
   "metadata": {},
   "outputs": [
    {
     "name": "stdout",
     "output_type": "stream",
     "text": [
      "['https://www.bbc.co.uk', 'https://www.amazon.co.uk', 'https://www.amazon.co.uk']\n"
     ]
    }
   ],
   "source": [
    "# remove urls which appear in external list (e.g. redlist or whitelist)\n",
    "\n",
    "def urlReduce(urlSet,externalSet):\n",
    "    newSet = []\n",
    "    for url in urlSet:\n",
    "        indicator = 0\n",
    "        for item in externalSet:\n",
    "            if(url == item):\n",
    "                indicator = 1\n",
    "        if(indicator == 0):\n",
    "            newSet.append(url)\n",
    "    return newSet\n",
    "\n",
    "print(urlReduce(urlList,whiteList))"
   ]
  },
  {
   "cell_type": "code",
   "execution_count": 11,
   "metadata": {},
   "outputs": [
    {
     "name": "stdout",
     "output_type": "stream",
     "text": [
      "['https://www.bbc.co.uk/news', 'https://www.bbc.co.uk', 'https://www.amazon.co.uk']\n"
     ]
    }
   ],
   "source": [
    "# delete duplicates\n",
    "print(list(dict.fromkeys(urlList)))"
   ]
  },
  {
   "cell_type": "code",
   "execution_count": 12,
   "metadata": {},
   "outputs": [
    {
     "name": "stdout",
     "output_type": "stream",
     "text": [
      "                          url    dup first of dup\n",
      "0  https://www.bbc.co.uk/news  False          N/A\n",
      "1       https://www.bbc.co.uk  False          N/A\n",
      "2    https://www.amazon.co.uk   True            T\n",
      "3    https://www.amazon.co.uk   True            F\n"
     ]
    }
   ],
   "source": [
    "# flag duplicates\n",
    "import pandas as pd\n",
    "\n",
    "def flagDuplicates(urlSet):\n",
    "    df = pd.DataFrame({'url':urlSet})\n",
    "    df['dup'] = df.duplicated(keep=False)\n",
    "    first = [0]*len(df.index)\n",
    "    for i in range(len(df.index)):\n",
    "        if (df['dup'][i] == True):\n",
    "            if df['url'][i] in set(df['url'][0:i]):\n",
    "                first[i] = 'F'\n",
    "            else:\n",
    "                first[i] = 'T'\n",
    "        else:\n",
    "            first[i] = 'N/A'\n",
    "    df['first of dup'] = first\n",
    "    return df\n",
    "\n",
    "print(flagDuplicates(set1))\n",
    "\n",
    "# It may be useful to retain the times at which a person has visited one website (if there's been multiple visits).\n",
    "# Instead of deleting all rows in the dataframe which contain duplicated URLs (and the times visited), \n",
    "# we could retain those rows but just duplicate the extracted data (screenshots etc.) to save time/computational work.\n",
    "\n",
    "# flagDuplicates finds urls which are duplicated and flags the first of each duplicated url to appear in the list\n",
    "# (so we can extract data from the first and copy it to the rest)"
   ]
  },
  {
   "cell_type": "code",
   "execution_count": 13,
   "metadata": {},
   "outputs": [
    {
     "name": "stdout",
     "output_type": "stream",
     "text": [
      "['bbc.co.uk', 'bbc.co.uk', 'amazon.co.uk', 'amazon.co.uk']\n"
     ]
    }
   ],
   "source": [
    "# get domain names (for partial url matching/grouping by domain)\n",
    "from urllib.parse import urlparse\n",
    "\n",
    "def getDomain(urlSet):\n",
    "    newSet = []\n",
    "    for url in urlSet:\n",
    "        site = urlparse(url).netloc\n",
    "        domain = ('.'.join(site.split('.')[1:]))\n",
    "        newSet.append(domain)\n",
    "    return newSet\n",
    "\n",
    "print(getDomain(set1))"
   ]
  }
 ],
 "metadata": {
  "interpreter": {
   "hash": "1e278ca4e9a2ae999502812da3aa9042213e3ce53c46b5f0452fc22ced78fb5d"
  },
  "kernelspec": {
   "display_name": "Python 3.9.7 64-bit (windows store)",
   "name": "python3"
  },
  "language_info": {
   "codemirror_mode": {
    "name": "ipython",
    "version": 3
   },
   "file_extension": ".py",
   "mimetype": "text/x-python",
   "name": "python",
   "nbconvert_exporter": "python",
   "pygments_lexer": "ipython3",
   "version": "3.9.7"
  },
  "orig_nbformat": 4
 },
 "nbformat": 4,
 "nbformat_minor": 2
}
